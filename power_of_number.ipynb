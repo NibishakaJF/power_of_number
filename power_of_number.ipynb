{
 "cells": [
  {
   "cell_type": "markdown",
   "id": "e31ef507",
   "metadata": {},
   "source": [
    "In mathematics, the power of a number refers to the result of multiplying a number by itself a certain number of times. The number being multiplied is called the base, and the number of times it is being multiplied is called the exponent. The power of a number is denoted using a superscript, with the base followed by the exponent, for example:\n",
    "\n",
    "2^3, which means 2 raised to the power of 3, or 2 multiplied by itself 3 times, resulting in 8\n",
    "5^2, which means 5 raised to the power of 2, or 5 multiplied by itself 2 times, resulting in 25\n",
    "The power of a number can be calculated using the formula:\n",
    "\n",
    "base^exponent = result\n",
    "\n",
    "where the result is the value obtained by multiplying the base by itself exponent times. The exponent can be any positive or negative integer, as well as 0. When the exponent is 0, the result is always 1, regardless of the value of the base. When the exponent is a negative integer, the result is equal to the reciprocal of the value obtained by raising the base to the absolute value of the exponent. For example:\n",
    "\n",
    "$2^{-3} = 1/(2^3) = 1/8$, which means 2 raised to the power of -3 is equal to the reciprocal of 2 raised to the power of 3."
   ]
  },
  {
   "cell_type": "code",
   "execution_count": 2,
   "id": "ea6c7689",
   "metadata": {},
   "outputs": [
    {
     "name": "stdout",
     "output_type": "stream",
     "text": [
      "Enter the base: 5\n",
      "Enter the exponent: 3\n",
      "5.0^3 = 125.0\n"
     ]
    }
   ],
   "source": [
    "# Define the function to compute the power of a number\n",
    "def power(base, exponent):\n",
    "    result = 1\n",
    "    for i in range(abs(exponent)):\n",
    "        result *= base\n",
    "    if exponent < 0:\n",
    "        result = 1 / result\n",
    "    return result\n",
    "\n",
    "# Ask the user to enter the base and exponent\n",
    "base = float(input(\"Enter the base: \"))\n",
    "exponent = int(input(\"Enter the exponent: \"))\n",
    "\n",
    "# Compute the power of the number\n",
    "result = power(base, exponent)\n",
    "\n",
    "# Print the result\n",
    "print(f\"{base}^{exponent} = {result}\")\n"
   ]
  },
  {
   "cell_type": "markdown",
   "id": "4d68222c",
   "metadata": {},
   "source": [
    "To use this code, simply run the cell in your Jupyter Notebook and follow the prompts to enter the base and exponent. The code will then compute the power of the number and print the result.\n",
    "\n",
    "For example, to compute $2^3$, you would enter 2 for the base and 3 for the exponent. The code will then compute the result and print it like this: $2^3 = 8.0$. If you want to compute $2^{-3}$, you would enter -3 for the exponent, and the code will print the result like this: $2^{-3} = 0.125$."
   ]
  },
  {
   "cell_type": "code",
   "execution_count": null,
   "id": "398e09f4",
   "metadata": {},
   "outputs": [],
   "source": []
  }
 ],
 "metadata": {
  "kernelspec": {
   "display_name": "Python 3 (ipykernel)",
   "language": "python",
   "name": "python3"
  },
  "language_info": {
   "codemirror_mode": {
    "name": "ipython",
    "version": 3
   },
   "file_extension": ".py",
   "mimetype": "text/x-python",
   "name": "python",
   "nbconvert_exporter": "python",
   "pygments_lexer": "ipython3",
   "version": "3.9.12"
  }
 },
 "nbformat": 4,
 "nbformat_minor": 5
}
